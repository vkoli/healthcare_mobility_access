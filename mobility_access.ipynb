{
  "nbformat": 4,
  "nbformat_minor": 0,
  "metadata": {
    "colab": {
      "name": "mobility_access.ipynb",
      "provenance": [],
      "collapsed_sections": [],
      "toc_visible": true
    },
    "kernelspec": {
      "name": "python3",
      "display_name": "Python 3"
    }
  },
  "cells": [
    {
      "cell_type": "markdown",
      "metadata": {
        "id": "qDQOdlwb8o6e",
        "colab_type": "text"
      },
      "source": [
        "# Exploring Mobility Access Points in Healthcare Facilities\n"
      ]
    },
    {
      "cell_type": "markdown",
      "metadata": {
        "id": "LexHPHpM8261",
        "colab_type": "text"
      },
      "source": [
        "## Set up and Data Upload"
      ]
    },
    {
      "cell_type": "code",
      "metadata": {
        "id": "PR8L4WCIALbB",
        "colab_type": "code",
        "colab": {
          "base_uri": "https://localhost:8080/",
          "height": 122
        },
        "outputId": "e92da21a-a409-45a9-b8ff-4ed16a097342"
      },
      "source": [
        "from google.colab import drive\n",
        "drive.mount('/content/drive', force_remount=True)"
      ],
      "execution_count": 1,
      "outputs": [
        {
          "output_type": "stream",
          "text": [
            "Go to this URL in a browser: https://accounts.google.com/o/oauth2/auth?client_id=947318989803-6bn6qk8qdgf4n4g3pfee6491hc0brc4i.apps.googleusercontent.com&redirect_uri=urn%3aietf%3awg%3aoauth%3a2.0%3aoob&response_type=code&scope=email%20https%3a%2f%2fwww.googleapis.com%2fauth%2fdocs.test%20https%3a%2f%2fwww.googleapis.com%2fauth%2fdrive%20https%3a%2f%2fwww.googleapis.com%2fauth%2fdrive.photos.readonly%20https%3a%2f%2fwww.googleapis.com%2fauth%2fpeopleapi.readonly\n",
            "\n",
            "Enter your authorization code:\n",
            "··········\n",
            "Mounted at /content/drive\n"
          ],
          "name": "stdout"
        }
      ]
    },
    {
      "cell_type": "code",
      "metadata": {
        "id": "UMnl0Oa8AVAc",
        "colab_type": "code",
        "colab": {
          "base_uri": "https://localhost:8080/",
          "height": 34
        },
        "outputId": "457c556b-de16-4712-c555-6368ec8cb3fd"
      },
      "source": [
        "%cd drive/My Drive/Colab Notebooks/data"
      ],
      "execution_count": 2,
      "outputs": [
        {
          "output_type": "stream",
          "text": [
            "/content/drive/My Drive/Colab Notebooks/data\n"
          ],
          "name": "stdout"
        }
      ]
    },
    {
      "cell_type": "code",
      "metadata": {
        "id": "JeJsAGFx8loj",
        "colab_type": "code",
        "colab": {}
      },
      "source": [
        "import pandas as pd\n",
        "pd.set_option('display.max_columns', 999)\n",
        "import numpy as np\n",
        "import os\n",
        "\n",
        "import matplotlib as mpl\n",
        "import matplotlib.pyplot as plt\n",
        "%matplotlib inline"
      ],
      "execution_count": 3,
      "outputs": []
    },
    {
      "cell_type": "code",
      "metadata": {
        "id": "iWvYbimNAZSo",
        "colab_type": "code",
        "colab": {}
      },
      "source": [
        "nj_df = pd.read_csv(\"nj_healthcare_facilities_list_combined.csv\")\n",
        "ny_df = pd.read_csv(\"ny_healthcare_facilities_list_combined.csv\")\n",
        "\n",
        "# TODO Finish pre-processing connecticut data\n",
        "ct_df = pd.read_csv(\"ct_healthcare_facilities_list_cleaned.csv\")\n",
        "ct_mob = pd.read_csv(\"ct_mobility_access_points.csv\")"
      ],
      "execution_count": 5,
      "outputs": []
    },
    {
      "cell_type": "code",
      "metadata": {
        "id": "hJaZENtwJZpT",
        "colab_type": "code",
        "colab": {}
      },
      "source": [
        "def get_mob_counts(df, mob_df):\n",
        "  mob_groups = mob_df.groupby(\"fac_id\")\n",
        "\n",
        "  for fid in df.fac_id:\n",
        "\n",
        "    try:\n",
        "      grp = mob_groups.get_group(fid)\n",
        "    except KeyError: # TODO: the fac_id that don't have any points have a different key for some reason \n",
        "      continue\n",
        "\n",
        "    counts = grp.type.value_counts()\n",
        "    i = 0\n",
        "\n",
        "    for count in counts:\n",
        "      name = counts.index[i]\n",
        "      df.loc[ (df.fac_id==fid), name ] = count\n",
        "      i += 1"
      ],
      "execution_count": 4,
      "outputs": []
    },
    {
      "cell_type": "markdown",
      "metadata": {
        "id": "JFQAv3IzBbqt",
        "colab_type": "text"
      },
      "source": [
        "## New Jersey"
      ]
    },
    {
      "cell_type": "code",
      "metadata": {
        "id": "VGjFYis6AzOs",
        "colab_type": "code",
        "colab": {
          "base_uri": "https://localhost:8080/",
          "height": 34
        },
        "outputId": "1c29cc41-c5a3-4306-c694-c912bd60a781"
      },
      "source": [
        "nj_df.shape"
      ],
      "execution_count": 7,
      "outputs": [
        {
          "output_type": "execute_result",
          "data": {
            "text/plain": [
              "(2326, 18)"
            ]
          },
          "metadata": {
            "tags": []
          },
          "execution_count": 7
        }
      ]
    },
    {
      "cell_type": "code",
      "metadata": {
        "id": "zVMhHKlqAXBT",
        "colab_type": "code",
        "colab": {
          "base_uri": "https://localhost:8080/",
          "height": 34
        },
        "outputId": "5683cf1f-12ee-4f49-a9c1-84ecb4e3b6b1"
      },
      "source": [
        "nj_no_mob = nj_df.loc[ ( (nj_df.parking==0.0) & (nj_df.parking_entrance==0.0) & (nj_df.bicycle_parking==0.0) & (nj_df.railway==0.0) ) ]\n",
        "nj_no_mob.shape"
      ],
      "execution_count": 14,
      "outputs": [
        {
          "output_type": "execute_result",
          "data": {
            "text/plain": [
              "(281, 18)"
            ]
          },
          "metadata": {
            "tags": []
          },
          "execution_count": 14
        }
      ]
    },
    {
      "cell_type": "code",
      "metadata": {
        "id": "2GD1U3DwEcJc",
        "colab_type": "code",
        "colab": {
          "base_uri": "https://localhost:8080/",
          "height": 238
        },
        "outputId": "f014eb42-c7da-401f-e148-9353d9ca5e47"
      },
      "source": [
        "nj_no_mob.groupby(\"FAC_CITY\")['fac_id'].count().sort_values(ascending=False)"
      ],
      "execution_count": 25,
      "outputs": [
        {
          "output_type": "execute_result",
          "data": {
            "text/plain": [
              "FAC_CITY\n",
              "Lakewood          14\n",
              "Toms River        12\n",
              "Brick             12\n",
              "Wall              10\n",
              "Freehold           9\n",
              "                  ..\n",
              "Montville          1\n",
              "Morganville        1\n",
              "Morristown         1\n",
              "Mountain Lakes     1\n",
              " Turnersville      1\n",
              "Name: fac_id, Length: 115, dtype: int64"
            ]
          },
          "metadata": {
            "tags": []
          },
          "execution_count": 25
        }
      ]
    },
    {
      "cell_type": "code",
      "metadata": {
        "id": "8q8jnEwUCmXR",
        "colab_type": "code",
        "colab": {
          "base_uri": "https://localhost:8080/",
          "height": 34
        },
        "outputId": "700c0f5c-77cc-42da-81b8-68de34c90b09"
      },
      "source": [
        "nj_only_parking = nj_df.loc[ ( (nj_df.parking>0.0) & (nj_df.parking_entrance>=0.0) & (nj_df.bicycle_parking==0.0) & (nj_df.railway==0.0) ) ]\n",
        "nj_only_parking.shape"
      ],
      "execution_count": 18,
      "outputs": [
        {
          "output_type": "execute_result",
          "data": {
            "text/plain": [
              "(1222, 18)"
            ]
          },
          "metadata": {
            "tags": []
          },
          "execution_count": 18
        }
      ]
    },
    {
      "cell_type": "code",
      "metadata": {
        "id": "rN0K6VhgAXEH",
        "colab_type": "code",
        "colab": {
          "base_uri": "https://localhost:8080/",
          "height": 632
        },
        "outputId": "a96fa57b-e6b7-486a-f69f-b84adc1e97b5"
      },
      "source": [
        "nj_no_mob.head()"
      ],
      "execution_count": 16,
      "outputs": [
        {
          "output_type": "execute_result",
          "data": {
            "text/html": [
              "<div>\n",
              "<style scoped>\n",
              "    .dataframe tbody tr th:only-of-type {\n",
              "        vertical-align: middle;\n",
              "    }\n",
              "\n",
              "    .dataframe tbody tr th {\n",
              "        vertical-align: top;\n",
              "    }\n",
              "\n",
              "    .dataframe thead th {\n",
              "        text-align: right;\n",
              "    }\n",
              "</style>\n",
              "<table border=\"1\" class=\"dataframe\">\n",
              "  <thead>\n",
              "    <tr style=\"text-align: right;\">\n",
              "      <th></th>\n",
              "      <th>fac_id</th>\n",
              "      <th>FACILITY_TYPE</th>\n",
              "      <th>LIC#</th>\n",
              "      <th>LICENSED_NAME</th>\n",
              "      <th>ADDRESS</th>\n",
              "      <th>FAC_CITY</th>\n",
              "      <th>FAC_ST</th>\n",
              "      <th>ZIP</th>\n",
              "      <th>CSZ</th>\n",
              "      <th>COUNTY</th>\n",
              "      <th>LAT</th>\n",
              "      <th>LNG</th>\n",
              "      <th>FULL_ADDR</th>\n",
              "      <th>parking</th>\n",
              "      <th>railway</th>\n",
              "      <th>bicycle_parking</th>\n",
              "      <th>bus_station</th>\n",
              "      <th>parking_entrance</th>\n",
              "    </tr>\n",
              "  </thead>\n",
              "  <tbody>\n",
              "    <tr>\n",
              "      <th>29</th>\n",
              "      <td>NJ24194</td>\n",
              "      <td>Comprehensive Outpatient Rehab</td>\n",
              "      <td>24194</td>\n",
              "      <td>Advantage Therapy Center/Advantage Sleep Centers</td>\n",
              "      <td>100 Kingsway East, Suite B4-B6, Washing Pavilions</td>\n",
              "      <td>Sewell</td>\n",
              "      <td>NJ</td>\n",
              "      <td>8080</td>\n",
              "      <td>SEWELL, NJ  08080</td>\n",
              "      <td>Gloucester</td>\n",
              "      <td>39.755210</td>\n",
              "      <td>-75.201593</td>\n",
              "      <td>100 Kingsway East, Suite B4-B6, Washing Pavili...</td>\n",
              "      <td>0.0</td>\n",
              "      <td>0.0</td>\n",
              "      <td>0.0</td>\n",
              "      <td>0.0</td>\n",
              "      <td>0.0</td>\n",
              "    </tr>\n",
              "    <tr>\n",
              "      <th>44</th>\n",
              "      <td>NJR24898</td>\n",
              "      <td>Surgical Practice</td>\n",
              "      <td>R24898</td>\n",
              "      <td>Alliance Surgery Center, Llc</td>\n",
              "      <td>412 Creek Crossing Boulevard</td>\n",
              "      <td>Hainesport</td>\n",
              "      <td>NJ</td>\n",
              "      <td>8036</td>\n",
              "      <td>HAINESPORT, NJ  08036</td>\n",
              "      <td>Burlington</td>\n",
              "      <td>39.971434</td>\n",
              "      <td>-74.837491</td>\n",
              "      <td>412 Creek Crossing Boulevard, Hainesport, NJ, US</td>\n",
              "      <td>0.0</td>\n",
              "      <td>0.0</td>\n",
              "      <td>0.0</td>\n",
              "      <td>0.0</td>\n",
              "      <td>0.0</td>\n",
              "    </tr>\n",
              "    <tr>\n",
              "      <th>50</th>\n",
              "      <td>NJ31C0001141</td>\n",
              "      <td>Ambulatory Surgical Center</td>\n",
              "      <td>22900</td>\n",
              "      <td>Ambulatory Surgery Center At Old Bridge</td>\n",
              "      <td>400 Perrine Road, Suite 408</td>\n",
              "      <td>Old Bridge</td>\n",
              "      <td>NJ</td>\n",
              "      <td>8857</td>\n",
              "      <td>OLD BRIDGE, NJ  08857</td>\n",
              "      <td>Middlesex</td>\n",
              "      <td>40.435043</td>\n",
              "      <td>-74.300196</td>\n",
              "      <td>400 Perrine Road, Suite 408, Old Bridge, NJ, US</td>\n",
              "      <td>0.0</td>\n",
              "      <td>0.0</td>\n",
              "      <td>0.0</td>\n",
              "      <td>0.0</td>\n",
              "      <td>0.0</td>\n",
              "    </tr>\n",
              "    <tr>\n",
              "      <th>83</th>\n",
              "      <td>NJ25132</td>\n",
              "      <td>Ambulatory Care Facility</td>\n",
              "      <td>25132</td>\n",
              "      <td>Atlantic Advanced Urgent Care</td>\n",
              "      <td>333 Route 46, Suite 106</td>\n",
              "      <td>Mountain Lakes</td>\n",
              "      <td>NJ</td>\n",
              "      <td>7046</td>\n",
              "      <td>MOUNTAIN LAKES, NJ  07046</td>\n",
              "      <td>Morris</td>\n",
              "      <td>40.889025</td>\n",
              "      <td>-74.523968</td>\n",
              "      <td>333 Route 46, Suite 106, Mountain Lakes, NJ, US</td>\n",
              "      <td>0.0</td>\n",
              "      <td>0.0</td>\n",
              "      <td>0.0</td>\n",
              "      <td>0.0</td>\n",
              "      <td>0.0</td>\n",
              "    </tr>\n",
              "    <tr>\n",
              "      <th>104</th>\n",
              "      <td>NJ31C0001061</td>\n",
              "      <td>Surgical Practice</td>\n",
              "      <td>R24623</td>\n",
              "      <td>Atlantic Surgery Center</td>\n",
              "      <td>279 Third Avenue, Suite105</td>\n",
              "      <td>Long Branch</td>\n",
              "      <td>NJ</td>\n",
              "      <td>7740</td>\n",
              "      <td>LONG BRANCH, NJ  07740</td>\n",
              "      <td>Monmouth</td>\n",
              "      <td>34.021530</td>\n",
              "      <td>-84.788088</td>\n",
              "      <td>279 Third Avenue, Suite105, Long Branch, NJ, US</td>\n",
              "      <td>0.0</td>\n",
              "      <td>0.0</td>\n",
              "      <td>0.0</td>\n",
              "      <td>0.0</td>\n",
              "      <td>0.0</td>\n",
              "    </tr>\n",
              "  </tbody>\n",
              "</table>\n",
              "</div>"
            ],
            "text/plain": [
              "           fac_id                   FACILITY_TYPE    LIC#  \\\n",
              "29        NJ24194  Comprehensive Outpatient Rehab   24194   \n",
              "44       NJR24898               Surgical Practice  R24898   \n",
              "50   NJ31C0001141      Ambulatory Surgical Center   22900   \n",
              "83        NJ25132        Ambulatory Care Facility   25132   \n",
              "104  NJ31C0001061               Surgical Practice  R24623   \n",
              "\n",
              "                                        LICENSED_NAME  \\\n",
              "29   Advantage Therapy Center/Advantage Sleep Centers   \n",
              "44                       Alliance Surgery Center, Llc   \n",
              "50            Ambulatory Surgery Center At Old Bridge   \n",
              "83                      Atlantic Advanced Urgent Care   \n",
              "104                           Atlantic Surgery Center   \n",
              "\n",
              "                                               ADDRESS        FAC_CITY FAC_ST  \\\n",
              "29   100 Kingsway East, Suite B4-B6, Washing Pavilions          Sewell     NJ   \n",
              "44                        412 Creek Crossing Boulevard      Hainesport     NJ   \n",
              "50                         400 Perrine Road, Suite 408      Old Bridge     NJ   \n",
              "83                             333 Route 46, Suite 106  Mountain Lakes     NJ   \n",
              "104                         279 Third Avenue, Suite105     Long Branch     NJ   \n",
              "\n",
              "      ZIP                        CSZ      COUNTY        LAT        LNG  \\\n",
              "29   8080          SEWELL, NJ  08080  Gloucester  39.755210 -75.201593   \n",
              "44   8036      HAINESPORT, NJ  08036  Burlington  39.971434 -74.837491   \n",
              "50   8857      OLD BRIDGE, NJ  08857   Middlesex  40.435043 -74.300196   \n",
              "83   7046  MOUNTAIN LAKES, NJ  07046      Morris  40.889025 -74.523968   \n",
              "104  7740     LONG BRANCH, NJ  07740    Monmouth  34.021530 -84.788088   \n",
              "\n",
              "                                             FULL_ADDR  parking  railway  \\\n",
              "29   100 Kingsway East, Suite B4-B6, Washing Pavili...      0.0      0.0   \n",
              "44    412 Creek Crossing Boulevard, Hainesport, NJ, US      0.0      0.0   \n",
              "50     400 Perrine Road, Suite 408, Old Bridge, NJ, US      0.0      0.0   \n",
              "83     333 Route 46, Suite 106, Mountain Lakes, NJ, US      0.0      0.0   \n",
              "104    279 Third Avenue, Suite105, Long Branch, NJ, US      0.0      0.0   \n",
              "\n",
              "     bicycle_parking  bus_station  parking_entrance  \n",
              "29               0.0          0.0               0.0  \n",
              "44               0.0          0.0               0.0  \n",
              "50               0.0          0.0               0.0  \n",
              "83               0.0          0.0               0.0  \n",
              "104              0.0          0.0               0.0  "
            ]
          },
          "metadata": {
            "tags": []
          },
          "execution_count": 16
        }
      ]
    },
    {
      "cell_type": "code",
      "metadata": {
        "id": "XmHbt2TuAXGs",
        "colab_type": "code",
        "colab": {}
      },
      "source": [
        ""
      ],
      "execution_count": null,
      "outputs": []
    },
    {
      "cell_type": "code",
      "metadata": {
        "id": "cukfvJnRAXJY",
        "colab_type": "code",
        "colab": {}
      },
      "source": [
        ""
      ],
      "execution_count": null,
      "outputs": []
    },
    {
      "cell_type": "markdown",
      "metadata": {
        "id": "H5PWF4HixhPD",
        "colab_type": "text"
      },
      "source": [
        "## New York\n"
      ]
    },
    {
      "cell_type": "code",
      "metadata": {
        "id": "fwGQBQ_oG5eR",
        "colab_type": "code",
        "colab": {
          "base_uri": "https://localhost:8080/",
          "height": 34
        },
        "outputId": "6235d44a-3db9-49be-9ddd-eab754a11778"
      },
      "source": [
        "ny_df.shape"
      ],
      "execution_count": 26,
      "outputs": [
        {
          "output_type": "execute_result",
          "data": {
            "text/plain": [
              "(3982, 17)"
            ]
          },
          "metadata": {
            "tags": []
          },
          "execution_count": 26
        }
      ]
    },
    {
      "cell_type": "code",
      "metadata": {
        "id": "Jg8yVAX6Hiv8",
        "colab_type": "code",
        "colab": {
          "base_uri": "https://localhost:8080/",
          "height": 119
        },
        "outputId": "a09f4549-9d9a-44a1-8d44-c9b5e1f49cfd"
      },
      "source": [
        "ny_df.columns"
      ],
      "execution_count": 30,
      "outputs": [
        {
          "output_type": "execute_result",
          "data": {
            "text/plain": [
              "Index(['fac_id', 'Facility Name', 'Description', 'Facility Address 1',\n",
              "       'Facility City', 'Facility State', 'Facility Zip Code',\n",
              "       'Facility County', 'Facility Latitude', 'Facility Longitude',\n",
              "       'Facility Location', 'Full Address', 'parking', 'parking_entrance',\n",
              "       'bicycle_parking', 'railway', 'bus_station'],\n",
              "      dtype='object')"
            ]
          },
          "metadata": {
            "tags": []
          },
          "execution_count": 30
        }
      ]
    },
    {
      "cell_type": "code",
      "metadata": {
        "id": "daOMYbeBG5gV",
        "colab_type": "code",
        "colab": {
          "base_uri": "https://localhost:8080/",
          "height": 34
        },
        "outputId": "b1e610ec-89b4-4f0a-fefd-0853bd38f30e"
      },
      "source": [
        "ny_no_mob = ny_df.loc[ ( (ny_df.parking==0.0) & (ny_df.parking_entrance==0.0) & (ny_df.bicycle_parking==0.0) & (ny_df.railway==0.0) ) ]\n",
        "ny_no_mob.shape"
      ],
      "execution_count": 27,
      "outputs": [
        {
          "output_type": "execute_result",
          "data": {
            "text/plain": [
              "(413, 17)"
            ]
          },
          "metadata": {
            "tags": []
          },
          "execution_count": 27
        }
      ]
    },
    {
      "cell_type": "code",
      "metadata": {
        "id": "acNPIjDJHfnw",
        "colab_type": "code",
        "colab": {
          "base_uri": "https://localhost:8080/",
          "height": 238
        },
        "outputId": "14190bec-4840-4abb-9e7b-5a16a46ba915"
      },
      "source": [
        "ny_no_mob.groupby(\"Facility City\")['fac_id'].count().sort_values(ascending=False)"
      ],
      "execution_count": 34,
      "outputs": [
        {
          "output_type": "execute_result",
          "data": {
            "text/plain": [
              "Facility City\n",
              "Watertown        11\n",
              "Oneida           11\n",
              "Rome              9\n",
              "Lowville          8\n",
              "Elizabethtown     6\n",
              "                 ..\n",
              "Millbrook         1\n",
              "Middle Island     1\n",
              "Medina            1\n",
              "Mayville          1\n",
              "Adams             1\n",
              "Name: fac_id, Length: 246, dtype: int64"
            ]
          },
          "metadata": {
            "tags": []
          },
          "execution_count": 34
        }
      ]
    },
    {
      "cell_type": "code",
      "metadata": {
        "id": "BJ8oDOtyHGlo",
        "colab_type": "code",
        "colab": {
          "base_uri": "https://localhost:8080/",
          "height": 34
        },
        "outputId": "9ba94807-b96d-49b5-ebde-696e307c4eb5"
      },
      "source": [
        "ny_only_parking = ny_df.loc[ ( (ny_df.parking>0.0) & (ny_df.parking_entrance>=0.0) & (ny_df.bicycle_parking==0.0) & (ny_df.railway==0.0) ) ]\n",
        "ny_only_parking.shape"
      ],
      "execution_count": 28,
      "outputs": [
        {
          "output_type": "execute_result",
          "data": {
            "text/plain": [
              "(1474, 17)"
            ]
          },
          "metadata": {
            "tags": []
          },
          "execution_count": 28
        }
      ]
    },
    {
      "cell_type": "code",
      "metadata": {
        "id": "yVg9pc7wHGn4",
        "colab_type": "code",
        "colab": {}
      },
      "source": [
        ""
      ],
      "execution_count": null,
      "outputs": []
    },
    {
      "cell_type": "markdown",
      "metadata": {
        "id": "vTg4gCAL3eQK",
        "colab_type": "text"
      },
      "source": [
        "## Connecticut\n"
      ]
    },
    {
      "cell_type": "code",
      "metadata": {
        "id": "cJ1J9fLy3PDn",
        "colab_type": "code",
        "colab": {
          "base_uri": "https://localhost:8080/",
          "height": 279
        },
        "outputId": "0c9c6616-d4fc-4f57-872b-b428fe3f0ff8"
      },
      "source": [
        "ct_df.head()"
      ],
      "execution_count": null,
      "outputs": [
        {
          "output_type": "execute_result",
          "data": {
            "text/html": [
              "<div>\n",
              "<style scoped>\n",
              "    .dataframe tbody tr th:only-of-type {\n",
              "        vertical-align: middle;\n",
              "    }\n",
              "\n",
              "    .dataframe tbody tr th {\n",
              "        vertical-align: top;\n",
              "    }\n",
              "\n",
              "    .dataframe thead th {\n",
              "        text-align: right;\n",
              "    }\n",
              "</style>\n",
              "<table border=\"1\" class=\"dataframe\">\n",
              "  <thead>\n",
              "    <tr style=\"text-align: right;\">\n",
              "      <th></th>\n",
              "      <th>Facility_Name</th>\n",
              "      <th>Type</th>\n",
              "      <th>Street_Address</th>\n",
              "      <th>City</th>\n",
              "      <th>Zip</th>\n",
              "      <th>County</th>\n",
              "      <th>State</th>\n",
              "      <th>Facility Location</th>\n",
              "      <th>Latitude</th>\n",
              "      <th>Longitude</th>\n",
              "    </tr>\n",
              "  </thead>\n",
              "  <tbody>\n",
              "    <tr>\n",
              "      <th>0</th>\n",
              "      <td>Stamford Hospital, The</td>\n",
              "      <td>Acute Care Hospital</td>\n",
              "      <td>One Hospital Plaza</td>\n",
              "      <td>Stamford</td>\n",
              "      <td>6904.0</td>\n",
              "      <td>Fairfield</td>\n",
              "      <td>CT</td>\n",
              "      <td>(41.0550, -73.5522)</td>\n",
              "      <td>41.055000</td>\n",
              "      <td>-73.552200</td>\n",
              "    </tr>\n",
              "    <tr>\n",
              "      <th>1</th>\n",
              "      <td>John Dempsey Hospital</td>\n",
              "      <td>Acute Care Hospital</td>\n",
              "      <td>263 Farmington Avenue</td>\n",
              "      <td>Farmington</td>\n",
              "      <td>6030.0</td>\n",
              "      <td>Hartford</td>\n",
              "      <td>CT</td>\n",
              "      <td>(41.73509, -72.79582)</td>\n",
              "      <td>41.735090</td>\n",
              "      <td>-72.795820</td>\n",
              "    </tr>\n",
              "    <tr>\n",
              "      <th>2</th>\n",
              "      <td>St. Vincent's Medical Center</td>\n",
              "      <td>Acute Care Hospital</td>\n",
              "      <td>2800 Main Street</td>\n",
              "      <td>Bridgeport</td>\n",
              "      <td>6606.0</td>\n",
              "      <td>Fairfield</td>\n",
              "      <td>CT</td>\n",
              "      <td>(41.200083, -73.202486)</td>\n",
              "      <td>41.200083</td>\n",
              "      <td>-73.202486</td>\n",
              "    </tr>\n",
              "    <tr>\n",
              "      <th>3</th>\n",
              "      <td>Manchester Memorial Hospital</td>\n",
              "      <td>Acute Care Hospital</td>\n",
              "      <td>71 Haynes Street</td>\n",
              "      <td>Manchester</td>\n",
              "      <td>6040.0</td>\n",
              "      <td>Hartford</td>\n",
              "      <td>CT</td>\n",
              "      <td>(41.781087, -72.525221)</td>\n",
              "      <td>41.781087</td>\n",
              "      <td>-72.525221</td>\n",
              "    </tr>\n",
              "    <tr>\n",
              "      <th>4</th>\n",
              "      <td>Saint Mary's Hospital, Inc.</td>\n",
              "      <td>Acute Care Hospital</td>\n",
              "      <td>56 Franklin Street</td>\n",
              "      <td>Waterbury</td>\n",
              "      <td>6706.0</td>\n",
              "      <td>New Haven</td>\n",
              "      <td>CT</td>\n",
              "      <td>(41.552251, -73.036041)</td>\n",
              "      <td>41.552251</td>\n",
              "      <td>-73.036041</td>\n",
              "    </tr>\n",
              "  </tbody>\n",
              "</table>\n",
              "</div>"
            ],
            "text/plain": [
              "                  Facility_Name                 Type         Street_Address  \\\n",
              "0        Stamford Hospital, The  Acute Care Hospital     One Hospital Plaza   \n",
              "1         John Dempsey Hospital  Acute Care Hospital  263 Farmington Avenue   \n",
              "2  St. Vincent's Medical Center  Acute Care Hospital       2800 Main Street   \n",
              "3  Manchester Memorial Hospital  Acute Care Hospital       71 Haynes Street   \n",
              "4   Saint Mary's Hospital, Inc.  Acute Care Hospital     56 Franklin Street   \n",
              "\n",
              "         City     Zip     County State        Facility Location   Latitude  \\\n",
              "0    Stamford  6904.0  Fairfield    CT      (41.0550, -73.5522)  41.055000   \n",
              "1  Farmington  6030.0   Hartford    CT    (41.73509, -72.79582)  41.735090   \n",
              "2  Bridgeport  6606.0  Fairfield    CT  (41.200083, -73.202486)  41.200083   \n",
              "3  Manchester  6040.0   Hartford    CT  (41.781087, -72.525221)  41.781087   \n",
              "4   Waterbury  6706.0  New Haven    CT  (41.552251, -73.036041)  41.552251   \n",
              "\n",
              "   Longitude  \n",
              "0 -73.552200  \n",
              "1 -72.795820  \n",
              "2 -73.202486  \n",
              "3 -72.525221  \n",
              "4 -73.036041  "
            ]
          },
          "metadata": {
            "tags": []
          },
          "execution_count": 38
        }
      ]
    },
    {
      "cell_type": "code",
      "metadata": {
        "id": "TrufWIZU4GmY",
        "colab_type": "code",
        "colab": {
          "base_uri": "https://localhost:8080/",
          "height": 34
        },
        "outputId": "c037553d-17bc-441c-d51b-d37436229b1f"
      },
      "source": [
        "ct_df.shape"
      ],
      "execution_count": null,
      "outputs": [
        {
          "output_type": "execute_result",
          "data": {
            "text/plain": [
              "(1648, 10)"
            ]
          },
          "metadata": {
            "tags": []
          },
          "execution_count": 40
        }
      ]
    },
    {
      "cell_type": "code",
      "metadata": {
        "id": "79x2pGYY4ngR",
        "colab_type": "code",
        "colab": {}
      },
      "source": [
        "fids = []\n",
        "for i in range(0, 1648):\n",
        "  fids.append(str(i))"
      ],
      "execution_count": null,
      "outputs": []
    },
    {
      "cell_type": "code",
      "metadata": {
        "id": "AW8pKpzY5Cde",
        "colab_type": "code",
        "colab": {
          "base_uri": "https://localhost:8080/",
          "height": 34
        },
        "outputId": "7f91efb1-d106-4a1a-9074-b104e0211b35"
      },
      "source": [
        "len(fids)"
      ],
      "execution_count": null,
      "outputs": [
        {
          "output_type": "execute_result",
          "data": {
            "text/plain": [
              "1648"
            ]
          },
          "metadata": {
            "tags": []
          },
          "execution_count": 44
        }
      ]
    },
    {
      "cell_type": "code",
      "metadata": {
        "id": "n0fg68Kk6Md0",
        "colab_type": "code",
        "colab": {}
      },
      "source": [
        "ct_df.insert(0, \"fac_id\", fids, True) "
      ],
      "execution_count": null,
      "outputs": []
    },
    {
      "cell_type": "code",
      "metadata": {
        "id": "3FbkWpkC7Opa",
        "colab_type": "code",
        "colab": {
          "base_uri": "https://localhost:8080/",
          "height": 218
        },
        "outputId": "adb879fb-c2d7-4733-95cd-930793c79a02"
      },
      "source": [
        "ct_df.dtypes"
      ],
      "execution_count": null,
      "outputs": [
        {
          "output_type": "execute_result",
          "data": {
            "text/plain": [
              "fac_id                object\n",
              "Facility_Name         object\n",
              "Type                  object\n",
              "Street_Address        object\n",
              "City                  object\n",
              "Zip                  float64\n",
              "County                object\n",
              "State                 object\n",
              "Facility Location     object\n",
              "Latitude             float64\n",
              "Longitude            float64\n",
              "dtype: object"
            ]
          },
          "metadata": {
            "tags": []
          },
          "execution_count": 54
        }
      ]
    },
    {
      "cell_type": "code",
      "metadata": {
        "id": "-8KRET6L7Sfe",
        "colab_type": "code",
        "colab": {
          "base_uri": "https://localhost:8080/",
          "height": 134
        },
        "outputId": "d93c43ef-08ab-4d4c-b3a6-9ce4fc2f5c29"
      },
      "source": [
        "ct_mob.dtypes"
      ],
      "execution_count": null,
      "outputs": [
        {
          "output_type": "execute_result",
          "data": {
            "text/plain": [
              "osmid      object\n",
              "name       object\n",
              "type       object\n",
              "mob_lat    object\n",
              "mob_lon    object\n",
              "fac_id     object\n",
              "dtype: object"
            ]
          },
          "metadata": {
            "tags": []
          },
          "execution_count": 55
        }
      ]
    },
    {
      "cell_type": "code",
      "metadata": {
        "id": "qPjuSC4r6mEf",
        "colab_type": "code",
        "colab": {}
      },
      "source": [
        "get_mob_counts(ct_df, ct_mob)"
      ],
      "execution_count": null,
      "outputs": []
    }
  ]
}